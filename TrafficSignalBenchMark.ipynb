{
 "cells": [
  {
   "cell_type": "markdown",
   "metadata": {},
   "source": [
    "# Import Statements"
   ]
  },
  {
   "cell_type": "code",
   "execution_count": 3,
   "metadata": {},
   "outputs": [
    {
     "name": "stderr",
     "output_type": "stream",
     "text": [
      "Using TensorFlow backend.\n"
     ]
    }
   ],
   "source": [
    "import keras\n",
    "from keras.preprocessing.image import ImageDataGenerator\n",
    "import numpy as ny\n",
    "from matplotlib import pyplot\n",
    "from matplotlib.pyplot import imshow\n",
    "from keras.models import Sequential, load_model\n",
    "from keras.layers import Conv2D, MaxPool2D, Dense, Flatten\n",
    "from os import listdir\n",
    "from keras.preprocessing.image import load_img\n",
    "from keras.preprocessing.image import img_to_array"
   ]
  },
  {
   "cell_type": "markdown",
   "metadata": {},
   "source": [
    "# Constants"
   ]
  },
  {
   "cell_type": "code",
   "execution_count": 4,
   "metadata": {},
   "outputs": [],
   "source": [
    "TRAIN_DIRECTORY = 'gtsrb-german-traffic-sign/Train'\n",
    "TEST_DIRECTORY = 'gtsrb-german-traffic-sign/Test'\n",
    "IMAGE_TARGET_SIZE_FOR_DATAGEN = (50, 50)\n",
    "BATCH_SIZE_FOR_DATAGEN = 43\n",
    "CLASS_MODE_FOR_DATAGEN = 'categorical'\n",
    "VALIDATION_SPLIT = 0.1\n",
    "SHAPE_INPUT_LAYER = (50, 50, 3)\n",
    "NUM_CLASSIFICATIONS = 43"
   ]
  },
  {
   "cell_type": "markdown",
   "metadata": {},
   "source": [
    "# Custom Functions"
   ]
  },
  {
   "cell_type": "code",
   "execution_count": 3,
   "metadata": {},
   "outputs": [],
   "source": [
    "# Method returning the One Hot Value of a given One Hot Vector\n",
    "def getOneHotValue(oneHotArray):\n",
    "    for i in range(0, len(oneHotArray)):\n",
    "        if oneHotArray[i] == 1:\n",
    "            return i"
   ]
  },
  {
   "cell_type": "markdown",
   "metadata": {},
   "source": [
    "# Load and Prepare Data"
   ]
  },
  {
   "cell_type": "code",
   "execution_count": 5,
   "metadata": {},
   "outputs": [
    {
     "name": "stdout",
     "output_type": "stream",
     "text": [
      "Found 35289 images belonging to 43 classes.\n",
      "Type of Train set Generator is ::::  <class 'keras.preprocessing.image.DirectoryIterator'>\n",
      "Type of first_x_train is ::  <class 'numpy.ndarray'>\n",
      "Type of first_y_train is ::  <class 'numpy.ndarray'>\n",
      "Shape of first_x_train is ::  (43, 50, 50, 3)\n",
      "Shape of first_y_train is ::  (43, 43)\n",
      "Length of First element of First element of First element of first_x_train is ::  3\n",
      "Shape of First element of First element of First element of first_x_train is ::  (3,)\n",
      "Found 3920 images belonging to 43 classes.\n",
      "Type of TestSet Generator is ::::  <class 'keras.preprocessing.image.DirectoryIterator'>\n",
      "Type of first_x_val is ::  <class 'numpy.ndarray'>\n",
      "Type of first_y_val is ::  <class 'numpy.ndarray'>\n",
      "Shape of first_x_val is ::  (43, 50, 50, 3)\n",
      "Shape of first_y_val is ::  (43, 43)\n"
     ]
    }
   ],
   "source": [
    "# Instantiate ImageDataGenerator.\n",
    "# ImageDataGenerator is used to perform Image Augmentation.\n",
    "# This class has a method-flow_from_directory which is used to read quickly huge number\n",
    "# of images from directories within FileSystem and tag the corresponding classification\n",
    "# to each image. Expectation of this method is the following:\n",
    "      # Target directory should contain one subdirectory per class(class means the Output classifications)\n",
    "      # Any PNG, JPG, BMP, PPM or TIF images\n",
    "# The attribute-validation_split of ImageDataGeneratoris for splitting the entire dataset\n",
    "# into separate Data sets-one for Training and the other for Validation.\n",
    "# Value for attribute subset='training' denotes that the data generator that is returned from\n",
    "# flow_from_directory contains the data set for Training the model.\n",
    "# Value for attribute subset='validation' denotes that the data generator that is returned from\n",
    "# flow_from_directory contains the data set for Validating the model.\n",
    "\n",
    "# Create the ImageDataGenerator\n",
    "#imageDataGen = ImageDataGenerator(validation_split = VALIDATION_SPLIT, horizontal_flip=True,\n",
    "#                                 rotation_range=45, shear_range=45)\n",
    "imageDataGen = ImageDataGenerator(validation_split = VALIDATION_SPLIT)\n",
    "\n",
    "# Create the Data Generator for Train Set\n",
    "\n",
    "train_generator = imageDataGen.flow_from_directory(\n",
    "                    directory=TRAIN_DIRECTORY,\n",
    "                    target_size=IMAGE_TARGET_SIZE_FOR_DATAGEN,\n",
    "                    batch_size=BATCH_SIZE_FOR_DATAGEN,\n",
    "                    class_mode=CLASS_MODE_FOR_DATAGEN,\n",
    "                    subset='training')\n",
    "\n",
    "print(\"Type of Train set Generator is :::: \", type(train_generator))\n",
    "\n",
    "first_x_train, first_y_train = train_generator.next()\n",
    "\n",
    "print(\"Type of first_x_train is :: \", type(first_x_train))\n",
    "print(\"Type of first_y_train is :: \", type(first_y_train))\n",
    "print(\"Shape of first_x_train is :: \", first_x_train.shape)\n",
    "print(\"Shape of first_y_train is :: \", first_y_train.shape)\n",
    "\n",
    "print(\"Length of First element of First element of First element of first_x_train is :: \", len(first_x_train[0][0][0]))\n",
    "print(\"Shape of First element of First element of First element of first_x_train is :: \", first_x_train[0][0][0].shape)\n",
    "#print(\"First Element of first_x_train is :: \", first_x_train[0])\n",
    "\n",
    "# Create the Data Generator for Test Set\n",
    "# For generating the test set, use validation_split of ImageDataGenerator\n",
    "\n",
    "validation_generator = imageDataGen.flow_from_directory(\n",
    "                    directory=TRAIN_DIRECTORY,\n",
    "                    target_size=IMAGE_TARGET_SIZE_FOR_DATAGEN,\n",
    "                    batch_size=BATCH_SIZE_FOR_DATAGEN,\n",
    "                    class_mode=CLASS_MODE_FOR_DATAGEN,\n",
    "                    subset='validation')\n",
    "print(\"Type of TestSet Generator is :::: \", type(validation_generator))\n",
    "\n",
    "first_x_val, first_y_val = validation_generator.next()\n",
    "\n",
    "print(\"Type of first_x_val is :: \", type(first_x_val))\n",
    "print(\"Type of first_y_val is :: \", type(first_y_val))\n",
    "print(\"Shape of first_x_val is :: \", first_x_val.shape)\n",
    "print(\"Shape of first_y_val is :: \", first_y_val.shape)\n"
   ]
  },
  {
   "cell_type": "markdown",
   "metadata": {},
   "source": [
    "# Image Visualisation of Train set and Test set and verifying corresponding class of each set"
   ]
  },
  {
   "cell_type": "code",
   "execution_count": 5,
   "metadata": {},
   "outputs": [
    {
     "name": "stdout",
     "output_type": "stream",
     "text": [
      "--- X Train Image at Index=3 --- \n",
      "\n",
      "Y Trainat Index=3 is ---  [0. 0. 0. 0. 0. 1. 0. 0. 0. 0. 0. 0. 0. 0. 0. 0. 0. 0. 0. 0. 0. 0. 0. 0.\n",
      " 0. 0. 0. 0. 0. 0. 0. 0. 0. 0. 0. 0. 0. 0. 0. 0. 0. 0. 0.]\n"
     ]
    },
    {
     "data": {
      "image/png": "[encoded data removed]",
      "text/plain": [
       "<Figure size 432x288 with 1 Axes>"
      ]
     },
     "metadata": {
      "needs_background": "light"
     },
     "output_type": "display_data"
    }
   ],
   "source": [
    "first_x_train_image = first_x_train[3].astype('int')\n",
    "print(\"--- X Train Image at Index=3 --- \\n\")\n",
    "pyplot.imshow(first_x_train_image)\n",
    "print(\"Y Trainat Index=3 is --- \", first_y_train[3])"
   ]
  },
  {
   "cell_type": "code",
   "execution_count": 6,
   "metadata": {},
   "outputs": [
    {
     "name": "stdout",
     "output_type": "stream",
     "text": [
      "--- X Validation Image at Index=4 --- \n",
      "\n",
      "Y Validation at Index=4 is ---  [0. 0. 0. 0. 0. 0. 0. 0. 0. 1. 0. 0. 0. 0. 0. 0. 0. 0. 0. 0. 0. 0. 0. 0.\n",
      " 0. 0. 0. 0. 0. 0. 0. 0. 0. 0. 0. 0. 0. 0. 0. 0. 0. 0. 0.]\n"
     ]
    },
    {
     "data": {
      "image/png": "[encoded data removed]",
      "text/plain": [
       "<Figure size 432x288 with 1 Axes>"
      ]
     },
     "metadata": {
      "needs_background": "light"
     },
     "output_type": "display_data"
    }
   ],
   "source": [
    "first_x_val_image = first_x_val[4].astype('int')\n",
    "print(\"--- X Validation Image at Index=4 --- \\n\")\n",
    "pyplot.imshow(first_x_val_image)\n",
    "print(\"Y Validation at Index=4 is --- \", first_y_val[4])"
   ]
  },
  {
   "cell_type": "markdown",
   "metadata": {},
   "source": [
    "# Load Test set: This is not the correct way to load the Test set, because\n",
    "# ImageDataGenerator expects the images to be placed in separate\n",
    "# directories corresponding to the output classes. Other wise\n",
    "# ImageDataGenerator won't load any of the images."
   ]
  },
  {
   "cell_type": "code",
   "execution_count": 7,
   "metadata": {},
   "outputs": [],
   "source": [
    "#imageDataGenTest = ImageDataGenerator()\n",
    "#test_generator = imageDataGenTest.flow_from_directory(\n",
    "                    #TEST_DIRECTORY,\n",
    "                    #target_size=(50, 50),\n",
    "                    #classes=['0','1','2','3','4','5','6','7','8','9','10','11','12','13','14','15','16','17','18','19','20','21','22','23','24','25','26','27','28','29','30','31','32','33','34','35','36','37','38','39','40','41','42'])\n",
    "\n",
    "#print(\"Type of Test set Generator is :::: \", type(test_generator))\n",
    "\n",
    "#first_x_test, first_y_test = test_generator.next()\n",
    "\n",
    "#print(\"Type of first_x_test is :: \", type(first_x_test))\n",
    "#print(\"Type of first_y_test is :: \", type(first_y_test))\n",
    "#print(\"Shape of first_x_test is :: \", first_x_test.shape)\n",
    "#print(\"Shape of first_y_test is :: \", first_y_test.shape)"
   ]
  },
  {
   "cell_type": "markdown",
   "metadata": {},
   "source": [
    "# Class Indices\n",
    "# Class Indices is stored inside a dictionary."
   ]
  },
  {
   "cell_type": "code",
   "execution_count": 6,
   "metadata": {},
   "outputs": [
    {
     "name": "stdout",
     "output_type": "stream",
     "text": [
      "Indices Dictionary for Train set is ::  {'0': 0, '1': 1, '10': 2, '11': 3, '12': 4, '13': 5, '14': 6, '15': 7, '16': 8, '17': 9, '18': 10, '19': 11, '2': 12, '20': 13, '21': 14, '22': 15, '23': 16, '24': 17, '25': 18, '26': 19, '27': 20, '28': 21, '29': 22, '3': 23, '30': 24, '31': 25, '32': 26, '33': 27, '34': 28, '35': 29, '36': 30, '37': 31, '38': 32, '39': 33, '4': 34, '40': 35, '41': 36, '42': 37, '5': 38, '6': 39, '7': 40, '8': 41, '9': 42}\n",
      "Indices Dictionary for Validation set is ::  {'0': 0, '1': 1, '10': 2, '11': 3, '12': 4, '13': 5, '14': 6, '15': 7, '16': 8, '17': 9, '18': 10, '19': 11, '2': 12, '20': 13, '21': 14, '22': 15, '23': 16, '24': 17, '25': 18, '26': 19, '27': 20, '28': 21, '29': 22, '3': 23, '30': 24, '31': 25, '32': 26, '33': 27, '34': 28, '35': 29, '36': 30, '37': 31, '38': 32, '39': 33, '4': 34, '40': 35, '41': 36, '42': 37, '5': 38, '6': 39, '7': 40, '8': 41, '9': 42}\n"
     ]
    }
   ],
   "source": [
    "# Keys of the Class Indices dictionary will be the names of the classification folders given by us, in the\n",
    "# ascending order. This means that if the folder names are 0, 1, 2, 3, ...., 10, 11, 12, 13, 14, 15, 16,\n",
    "# 17, 18, 19, 20, 21, 22, ...., 42-after making in ascending order the names will be\n",
    "# 0, 1, 10, 11, 12, 13, 14, 15, 16, 17, 18, 19, 2, 20, ...\n",
    "# Values of the Class Indices dictionary will be the one hot value present in the y_train array\n",
    "# corresponding to the appropriate x_train array.\n",
    "# Example:\n",
    "#     If the One Hot Value of an image is 1 at index=3(index starts from zero), then\n",
    "#     we need to get the dictionary-key for the dictionary-value=3. If this is 11, we need to check\n",
    "#     the image present in the subfolder named 11. This image will be the same image that we plotted\n",
    "#     using PyPlot. This means that the Machine understood the class of the image we gave as 11.\n",
    "#     After verifying the image in the subfolder, the image was found to be correct. So Machine understood\n",
    "#     the correct class of the image as 11.\n",
    "trian_class_indices = train_generator.class_indices\n",
    "print(\"Indices Dictionary for Train set is :: \", trian_class_indices)\n",
    "test_class_indices = validation_generator.class_indices\n",
    "print(\"Indices Dictionary for Validation set is :: \", test_class_indices)"
   ]
  },
  {
   "cell_type": "markdown",
   "metadata": {},
   "source": [
    "# Display the Image class understood by the Machine"
   ]
  },
  {
   "cell_type": "code",
   "execution_count": 9,
   "metadata": {},
   "outputs": [
    {
     "name": "stdout",
     "output_type": "stream",
     "text": [
      "y_train_onehotVal is ::  5\n",
      "Category of the X Train Image at Index=3 is ::  13\n"
     ]
    }
   ],
   "source": [
    "# Get the One Hot Value of Train Set Target\n",
    "y_train_onehotVal = getOneHotValue(first_y_train[3])\n",
    "print(\"y_train_onehotVal is :: \", y_train_onehotVal)\n",
    "# Finding the Class corresponding to the given Train set Image\n",
    "key_list = list(trian_class_indices.keys()) \n",
    "val_list = list(trian_class_indices.values())\n",
    "print(\"Category of the X Train Image at Index=3 is :: \", key_list[val_list.index(y_train_onehotVal)])"
   ]
  },
  {
   "cell_type": "markdown",
   "metadata": {},
   "source": [
    "# Design the Model"
   ]
  },
  {
   "cell_type": "code",
   "execution_count": 10,
   "metadata": {},
   "outputs": [
    {
     "name": "stdout",
     "output_type": "stream",
     "text": [
      "Model: \"sequential_1\"\n",
      "_________________________________________________________________\n",
      "Layer (type)                 Output Shape              Param #   \n",
      "=================================================================\n",
      "Convolv_1 (Conv2D)           (None, 41, 41, 18)        5418      \n",
      "_________________________________________________________________\n",
      "Convolv_2 (Conv2D)           (None, 41, 41, 36)        64836     \n",
      "_________________________________________________________________\n",
      "max_pooling2d_1 (MaxPooling2 (None, 20, 20, 36)        0         \n",
      "_________________________________________________________________\n",
      "Convolv_3 (Conv2D)           (None, 20, 20, 40)        36040     \n",
      "_________________________________________________________________\n",
      "max_pooling2d_2 (MaxPooling2 (None, 10, 10, 40)        0         \n",
      "_________________________________________________________________\n",
      "Convolv_4 (Conv2D)           (None, 10, 10, 50)        18050     \n",
      "_________________________________________________________________\n",
      "max_pooling2d_3 (MaxPooling2 (None, 5, 5, 50)          0         \n",
      "_________________________________________________________________\n",
      "flatten_1 (Flatten)          (None, 1250)              0         \n",
      "_________________________________________________________________\n",
      "dense_1 (Dense)              (None, 64)                80064     \n",
      "_________________________________________________________________\n",
      "dense_2 (Dense)              (None, 32)                2080      \n",
      "_________________________________________________________________\n",
      "dense_3 (Dense)              (None, 43)                1419      \n",
      "=================================================================\n",
      "Total params: 207,907\n",
      "Trainable params: 207,907\n",
      "Non-trainable params: 0\n",
      "_________________________________________________________________\n"
     ]
    }
   ],
   "source": [
    "# Model Chosen is Convolutional Neural Network(CNN)\n",
    "model = Sequential()\n",
    "\n",
    "# First layer of the model should be a Convolution layer-Add a Convolv 2D layer\n",
    "model.add(Conv2D(18, (10, 10), padding=\"valid\",strides=1,name=\"Convolv_1\",\n",
    "                 activation=\"relu\", input_shape=SHAPE_INPUT_LAYER))\n",
    "model.add(Conv2D(36,(10,10),padding=\"same\",strides=1,name=\"Convolv_2\",activation=\"relu\"))\n",
    "model.add(MaxPool2D(pool_size=(2,2)))\n",
    "model.add(Conv2D(40, (5, 5), padding=\"same\", name=\"Convolv_3\",activation=\"relu\"))\n",
    "model.add(MaxPool2D(pool_size=(2,2)))\n",
    "model.add(Conv2D(50, (3, 3), padding=\"same\", name=\"Convolv_4\",activation=\"relu\"))\n",
    "model.add(MaxPool2D(pool_size=(2,2)))\n",
    "# For adding fully connected layer, we need to convert the 3d array to 1d for which we use Flatten() \n",
    "model.add(Flatten())\n",
    "model.add(Dense(64, activation='relu'))\n",
    "model.add(Dense(32, activation='relu'))\n",
    "model.add(Dense(NUM_CLASSIFICATIONS, activation='softmax'))\n",
    "model.summary()"
   ]
  },
  {
   "cell_type": "markdown",
   "metadata": {},
   "source": [
    "# Compile the Model"
   ]
  },
  {
   "cell_type": "code",
   "execution_count": 11,
   "metadata": {},
   "outputs": [],
   "source": [
    "# Since this is a multi-classification problem loss function is chosen as categorical_crossentropy\n",
    "model.compile(loss=keras.losses.categorical_crossentropy, optimizer=keras.optimizers.Adadelta(),\n",
    "              metrics=['accuracy'])"
   ]
  },
  {
   "cell_type": "markdown",
   "metadata": {},
   "source": [
    "# Train the Model"
   ]
  },
  {
   "cell_type": "code",
   "execution_count": 12,
   "metadata": {},
   "outputs": [
    {
     "name": "stdout",
     "output_type": "stream",
     "text": [
      "Epoch 1/10\n",
      "821/821 [==============================] - 604s 735ms/step - loss: 1.4080 - accuracy: 0.6484 - val_loss: 0.5989 - val_accuracy: 0.7763\n",
      "Epoch 2/10\n",
      "821/821 [==============================] - 521s 635ms/step - loss: 0.2691 - accuracy: 0.9350 - val_loss: 0.0144 - val_accuracy: 0.8339\n",
      "Epoch 3/10\n",
      "821/821 [==============================] - 526s 641ms/step - loss: 0.1642 - accuracy: 0.9637 - val_loss: 1.2233 - val_accuracy: 0.8969\n",
      "Epoch 4/10\n",
      "821/821 [==============================] - 522s 636ms/step - loss: 0.1155 - accuracy: 0.9742 - val_loss: 0.0012 - val_accuracy: 0.9000\n",
      "Epoch 5/10\n",
      "821/821 [==============================] - 521s 635ms/step - loss: 0.0881 - accuracy: 0.9817 - val_loss: 0.0998 - val_accuracy: 0.8824\n",
      "Epoch 6/10\n",
      "821/821 [==============================] - 525s 639ms/step - loss: 0.0774 - accuracy: 0.9847 - val_loss: 5.3163e-04 - val_accuracy: 0.9189\n",
      "Epoch 7/10\n",
      "821/821 [==============================] - 534s 650ms/step - loss: 0.0833 - accuracy: 0.9852 - val_loss: 0.2071 - val_accuracy: 0.9082\n",
      "Epoch 8/10\n",
      "821/821 [==============================] - 546s 665ms/step - loss: 0.0605 - accuracy: 0.9891 - val_loss: 1.6978e-05 - val_accuracy: 0.8967\n",
      "Epoch 9/10\n",
      "821/821 [==============================] - 536s 653ms/step - loss: 0.0600 - accuracy: 0.9890 - val_loss: 3.4746 - val_accuracy: 0.9276\n",
      "Epoch 10/10\n",
      "821/821 [==============================] - 528s 643ms/step - loss: 0.0584 - accuracy: 0.9906 - val_loss: 4.4499 - val_accuracy: 0.8972\n",
      "--- Train History is ---  <keras.callbacks.callbacks.History object at 0x7fc204560190>\n"
     ]
    }
   ],
   "source": [
    "history = model.fit_generator(train_generator, steps_per_epoch=821, epochs=10, validation_data=validation_generator, verbose=1)\n",
    "print(\"--- Train History is --- \", history)"
   ]
  },
  {
   "cell_type": "markdown",
   "metadata": {},
   "source": [
    "# Save the Model"
   ]
  },
  {
   "cell_type": "code",
   "execution_count": 13,
   "metadata": {},
   "outputs": [],
   "source": [
    "model.save('TrafficSignalBenchMark_Model1.h5')"
   ]
  },
  {
   "cell_type": "markdown",
   "metadata": {},
   "source": [
    "# Load the saved Model"
   ]
  },
  {
   "cell_type": "code",
   "execution_count": 13,
   "metadata": {},
   "outputs": [
    {
     "name": "stdout",
     "output_type": "stream",
     "text": [
      "Model: \"sequential_1\"\n",
      "_________________________________________________________________\n",
      "Layer (type)                 Output Shape              Param #   \n",
      "=================================================================\n",
      "Convolv_1 (Conv2D)           (None, 41, 41, 18)        5418      \n",
      "_________________________________________________________________\n",
      "Convolv_2 (Conv2D)           (None, 41, 41, 36)        64836     \n",
      "_________________________________________________________________\n",
      "max_pooling2d_1 (MaxPooling2 (None, 20, 20, 36)        0         \n",
      "_________________________________________________________________\n",
      "Convolv_3 (Conv2D)           (None, 20, 20, 40)        36040     \n",
      "_________________________________________________________________\n",
      "max_pooling2d_2 (MaxPooling2 (None, 10, 10, 40)        0         \n",
      "_________________________________________________________________\n",
      "Convolv_4 (Conv2D)           (None, 10, 10, 50)        18050     \n",
      "_________________________________________________________________\n",
      "max_pooling2d_3 (MaxPooling2 (None, 5, 5, 50)          0         \n",
      "_________________________________________________________________\n",
      "flatten_1 (Flatten)          (None, 1250)              0         \n",
      "_________________________________________________________________\n",
      "dense_1 (Dense)              (None, 64)                80064     \n",
      "_________________________________________________________________\n",
      "dense_2 (Dense)              (None, 32)                2080      \n",
      "_________________________________________________________________\n",
      "dense_3 (Dense)              (None, 43)                1419      \n",
      "=================================================================\n",
      "Total params: 207,907\n",
      "Trainable params: 207,907\n",
      "Non-trainable params: 0\n",
      "_________________________________________________________________\n"
     ]
    }
   ],
   "source": [
    "# Loading the Model\n",
    "loadedModel = load_model('TrafficSignalBenchMark_Model1.h5')\n",
    "loadedModel.summary()"
   ]
  },
  {
   "cell_type": "markdown",
   "metadata": {},
   "source": [
    "# Displaying the Weights and Biases from the loaded model. "
   ]
  },
  {
   "cell_type": "code",
   "execution_count": 17,
   "metadata": {},
   "outputs": [
    {
     "data": {
      "image/png": "[encoded data removed]",
      "text/plain": [
       "<Figure size 720x720 with 50 Axes>"
      ]
     },
     "metadata": {},
     "output_type": "display_data"
    }
   ],
   "source": [
    "# retrieve weights from the fourth hidden layer\n",
    "filters, biases = loadedModel.layers[3].get_weights()\n",
    "# normalize filter values to 0-1 so we can visualize them\n",
    "f_min, f_max = filters.min(), filters.max()\n",
    "filters = (filters - f_min) / (f_max - f_min)\n",
    "# plot first few filters\n",
    "n_filters, ix = 10, 1\n",
    "pyplot.figure(figsize=(10,10))\n",
    "for i in range(n_filters):\n",
    "\t# get the filter\n",
    "\tf = filters[:, :, :, i]\n",
    "\t# plot each channel separately\n",
    "\tfor j in range(5):\n",
    "\t\t# specify subplot and turn of axis\n",
    "\t\tax = pyplot.subplot(n_filters, 5, ix)\n",
    "\t\tax.set_xticks([])\n",
    "\t\tax.set_yticks([])\n",
    "\t\t# plot filter channel in grayscale\n",
    "\t\tpyplot.imshow(f[:, :, j], cmap='gray')\n",
    "\t\tix += 1\n",
    "# show the figure\n",
    "pyplot.show()"
   ]
  },
  {
   "cell_type": "markdown",
   "metadata": {},
   "source": [
    "# Evaluate the Model"
   ]
  },
  {
   "cell_type": "code",
   "execution_count": 14,
   "metadata": {},
   "outputs": [
    {
     "name": "stdout",
     "output_type": "stream",
     "text": [
      "92/92 [==============================] - 17s 179ms/step\n",
      "loss_info_evaluation >>>  [2.7848727703094482, 0.8971938490867615]\n"
     ]
    }
   ],
   "source": [
    "loss_info_evaluation = loadedModel.evaluate_generator(validation_generator, verbose=1)\n",
    "print(\"loss_info_evaluation >>> \", loss_info_evaluation)"
   ]
  },
  {
   "cell_type": "markdown",
   "metadata": {},
   "source": [
    "# Function for getting Test images as array"
   ]
  },
  {
   "cell_type": "code",
   "execution_count": 15,
   "metadata": {},
   "outputs": [],
   "source": [
    "def getTestImageList(test_directory):\n",
    "    images_list = []\n",
    "    file_names = []\n",
    "    i = 0;\n",
    "    for filename in listdir(test_directory):\n",
    "        if i == 100:\n",
    "            break\n",
    "        # load image\n",
    "        img = load_img(test_directory + '/' + filename, target_size=IMAGE_TARGET_SIZE_FOR_DATAGEN)\n",
    "        img_array = img_to_array(img)\n",
    "        file_names.append(filename)\n",
    "        # store loaded image\n",
    "        images_list.append(img_array)\n",
    "        i +=1\n",
    "    return images_list, file_names\n",
    "test_images, test_file_names = getTestImageList(TEST_DIRECTORY)\n",
    "test_images = ny.asarray(test_images)"
   ]
  },
  {
   "cell_type": "markdown",
   "metadata": {},
   "source": [
    "# Plotting first four Images in Test set"
   ]
  },
  {
   "cell_type": "code",
   "execution_count": 16,
   "metadata": {},
   "outputs": [
    {
     "data": {
      "text/plain": [
       "<matplotlib.image.AxesImage at 0x7f99097e9a50>"
      ]
     },
     "execution_count": 16,
     "metadata": {},
     "output_type": "execute_result"
    },
    {
     "data": {
      "image/png": "[encoded data removed]",
      "text/plain": [
       "<Figure size 432x288 with 4 Axes>"
      ]
     },
     "metadata": {
      "needs_background": "light"
     },
     "output_type": "display_data"
    }
   ],
   "source": [
    "fig, ((ax1, ax2), (ax3, ax4)) = pyplot.subplots(2, 2)\n",
    "ax1.imshow(test_images[0].astype('int'))\n",
    "ax2.imshow(test_images[1].astype('int'))\n",
    "ax3.imshow(test_images[2].astype('int'))\n",
    "ax4.imshow(test_images[3].astype('int'))"
   ]
  },
  {
   "cell_type": "code",
   "execution_count": 17,
   "metadata": {},
   "outputs": [
    {
     "name": "stdout",
     "output_type": "stream",
     "text": [
      "Predictions ::::  [40  1  2  5]\n"
     ]
    }
   ],
   "source": [
    "predictions = loadedModel.predict_classes(test_images[0:4, :, :, :])\n",
    "print(\"Predictions :::: \", predictions)"
   ]
  },
  {
   "cell_type": "code",
   "execution_count": 51,
   "metadata": {},
   "outputs": [
    {
     "name": "stdout",
     "output_type": "stream",
     "text": [
      "Image-0 is ::::  03937.png\n",
      "Image-1 is ::::  02754.png\n",
      "Image-2 is ::::  12397.png\n",
      "Image-3 is ::::  09800.png\n"
     ]
    }
   ],
   "source": [
    "i = 0;\n",
    "for fileName in test_file_names:\n",
    "    if i == 4:\n",
    "        break\n",
    "    print(\"Image-\" + str(i) + \" is :::: \", fileName)\n",
    "    i+=1"
   ]
  },
  {
   "cell_type": "markdown",
   "metadata": {},
   "source": [
    "# Display the Predicted classes"
   ]
  },
  {
   "cell_type": "code",
   "execution_count": 20,
   "metadata": {},
   "outputs": [
    {
     "name": "stdout",
     "output_type": "stream",
     "text": [
      "Predicted Class is ::::  7\n",
      "Predicted Class is ::::  1\n",
      "Predicted Class is ::::  10\n",
      "Predicted Class is ::::  13\n"
     ]
    }
   ],
   "source": [
    "# Finding the Class corresponding to the given Train set Image\n",
    "key_list = list(trian_class_indices.keys()) \n",
    "val_list = list(trian_class_indices.values())\n",
    "for i in predictions:\n",
    "    predicted_value = int(i)\n",
    "    print(\"Predicted Class is :::: \", key_list[val_list.index(predicted_value)])\n"
   ]
  },
  {
   "cell_type": "code",
   "execution_count": null,
   "metadata": {},
   "outputs": [],
   "source": []
  }
 ],
 "metadata": {
  "kernelspec": {
   "display_name": "Python 3",
   "language": "python",
   "name": "python3"
  },
  "language_info": {
   "codemirror_mode": {
    "name": "ipython",
    "version": 3
   },
   "file_extension": ".py",
   "mimetype": "text/x-python",
   "name": "python",
   "nbconvert_exporter": "python",
   "pygments_lexer": "ipython3",
   "version": "3.7.4"
  }
 },
 "nbformat": 4,
 "nbformat_minor": 4
}
